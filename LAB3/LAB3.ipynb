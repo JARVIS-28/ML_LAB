{
 "cells": [
  {
   "cell_type": "code",
   "execution_count": 1,
   "metadata": {},
   "outputs": [],
   "source": [
    "import pandas as pd\n",
    "import torch\n",
    "import numpy as np"
   ]
  },
  {
   "cell_type": "code",
   "execution_count": 2,
   "metadata": {},
   "outputs": [],
   "source": [
    "df = pd.read_csv('D:/Sem-5/ML/LAB/LAB3/employeeData.csv')\n",
    "data = df.to_numpy(dtype=np.float32)\n",
    "tensor_data = torch.from_numpy(data)\n",
    "cols = list(df.columns)"
   ]
  },
  {
   "cell_type": "code",
   "execution_count": 3,
   "metadata": {},
   "outputs": [
    {
     "name": "stdout",
     "output_type": "stream",
     "text": [
      "Entropy of the dataset: 0.9285\n"
     ]
    }
   ],
   "source": [
    "def get_entropy_of_dataset(tensor: torch.Tensor):\n",
    "    total_inst= tensor.size(0)\n",
    "    count = torch.bincount(tensor[:, -1].long())\n",
    "    probs = count.float() / total_inst\n",
    "    \n",
    "    # entropy calculation\n",
    "    entropy = -torch.sum(probs * torch.log2(probs))\n",
    "    return entropy.item()\n",
    "\n",
    "entropy_value = get_entropy_of_dataset(tensor_data)\n",
    "print(f\"Entropy of the dataset: {entropy_value:.4f}\")\n",
    "\n"
   ]
  },
  {
   "cell_type": "code",
   "execution_count": 4,
   "metadata": {},
   "outputs": [
    {
     "name": "stdout",
     "output_type": "stream",
     "text": [
      "attribute values tensor([0., 1.])\n",
      "Average: 0.8935664033290265\n"
     ]
    }
   ],
   "source": [
    "# input:tensor,attribute number \n",
    "# output:int/float\n",
    "def get_avg_info_of_attribute(tensor: torch.Tensor, attribute:int):\n",
    "    \"\"\"Return avg_info of the attribute provided as parameter\"\"\"\n",
    "    attr_vals = tensor[:, attribute].unique()\n",
    "    print(\"attribute values\", attr_vals)\n",
    "    total_count = tensor.size(0)\n",
    "    weighted_entropy = 0.0\n",
    "\n",
    "    for value in attr_vals:\n",
    "        subset = tensor[tensor[:, attribute] == value]\n",
    "        subset_entropy = get_entropy_of_dataset(subset)\n",
    "        weighted_entropy += (subset.size(0) / total_count) * subset_entropy\n",
    "    \n",
    "    return weighted_entropy\n",
    "\n",
    "\n",
    "\n",
    "\n",
    "a = torch.tensor(df.values, dtype=torch.float32)\n",
    "average = get_avg_info_of_attribute(a,2)\n",
    "print(\"Average:\", average)\n",
    "    "
   ]
  },
  {
   "cell_type": "code",
   "execution_count": 13,
   "metadata": {},
   "outputs": [
    {
     "name": "stdout",
     "output_type": "stream",
     "text": [
      "attribute values tensor([0., 1.])\n",
      "0.0\n"
     ]
    }
   ],
   "source": [
    "# # input:tensor,attribute number\n",
    "# # output:int/float\n",
    "def get_information_gain(tensor:torch.Tensor, attribute:int):\n",
    "    \"\"\"Return Information Gain of the attribute provided as parameter\"\"\"\n",
    "    # Get the unique values of the attribute\n",
    "    initial_entropy = get_entropy_of_dataset(tensor)\n",
    "    attr_vals = tensor[:, attribute].unique()\n",
    "    print(\"attribute values\", attr_vals)\n",
    "    total_count = tensor.size(0)\n",
    "    weighted_entropy = 0.0\n",
    "\n",
    "    for value in attr_vals:\n",
    "        subset = tensor[tensor[:, attribute] == value]\n",
    "        subset_entropy = get_entropy_of_dataset(subset)\n",
    "        weighted_entropy += (subset.size(0) / total_count) * subset_entropy\n",
    "    \n",
    "    return weighted_entropy - average\n",
    "\n",
    "\n",
    "a = torch.tensor(df.values, dtype=torch.float32)\n",
    "\n",
    "ig = get_information_gain(a,2)\n",
    "\n",
    "print(ig)\n",
    "\n"
   ]
  }
 ],
 "metadata": {
  "kernelspec": {
   "display_name": "Python 3",
   "language": "python",
   "name": "python3"
  },
  "language_info": {
   "codemirror_mode": {
    "name": "ipython",
    "version": 3
   },
   "file_extension": ".py",
   "mimetype": "text/x-python",
   "name": "python",
   "nbconvert_exporter": "python",
   "pygments_lexer": "ipython3",
   "version": "3.12.0"
  }
 },
 "nbformat": 4,
 "nbformat_minor": 2
}
