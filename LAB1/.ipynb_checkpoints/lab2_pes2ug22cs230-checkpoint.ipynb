{
 "cells": [
  {
   "cell_type": "code",
   "execution_count": null,
   "metadata": {},
   "outputs": [],
   "source": [
    "'''\n",
    "Tasks\n",
    "1. Perform min-max scaling on a these set of values [171, 120, 86, 176, 77]. The input values range from 32 to 212 and the output should range from\n",
    "0 to 100.\n",
    "2. Perform standardization (2-score normalization) on a dataset with the following values: [50, 60, 70, 89, 901. Ensure the transformed values have a mean of 0 and a standard deviation of 1.\n",
    "3. Convert the categorical labels ['cat', 'dog', 'fish', 'cat', 'doz'1 into numerical labels using label encoding.\n",
    "4. Apply one-hot encoding to the categorical variable ['apple', 'banana\", \"orange\", \"banana\", \"banana\", \"apple\", orange\", \"orange\"].\n",
    "5. Split the dataset X - [[1], [2], [3], [4], [5], [6), [71, [811 and y - [10, 20, 30, 40, 50, 69, 70, 89] into training and testing sets with a test size of 25%.\n",
    "6. Generate a confusion matrix for the true labels [1, 0, 1, 1, 0] and the predicted labels [1, 0, 0, 1, 1]\n",
    "7. Train a random forest model on the breast-cancer dataset and output the importance of each feature.\n",
    "8. Train a support vector regression model on the house-pricing dataset and check if the model performs better than the linear regression model.\n",
    "\n",
    "'''"
   ]
  },
  {
   "cell_type": "code",
   "execution_count": 4,
   "metadata": {},
   "outputs": [
    {
     "name": "stdout",
     "output_type": "stream",
     "text": [
      "[ 94.94949495  43.43434343   9.09090909 100.           0.        ]\n"
     ]
    }
   ],
   "source": [
    "from sklearn.preprocessing import MinMaxScaler\n",
    "import numpy as np\n",
    "\n",
    "values = [171,120,86,176,77]\n",
    "\n",
    "values = np.array([171, 120, 86, 176, 77]).reshape(-1, 1)\n",
    "scaler = MinMaxScaler(feature_range=(0, 100))\n",
    "scaled_values = scaler.fit_transform(values)\n",
    "\n",
    "print(scaled_values.flatten())\n"
   ]
  },
  {
   "cell_type": "code",
   "execution_count": 9,
   "metadata": {},
   "outputs": [
    {
     "name": "stdout",
     "output_type": "stream",
     "text": [
      "mean 4.4408920985006264e-17\n",
      "standard deviation 1.0\n",
      "[-0.5513125  -0.52134987 -0.49138723 -0.43445822  1.99850782]\n"
     ]
    }
   ],
   "source": [
    "from sklearn.preprocessing import StandardScaler\n",
    "import numpy as np\n",
    "\n",
    "values = np.array([50, 60, 70, 89, 901]).reshape(-1, 1)\n",
    "scaler = StandardScaler()\n",
    "standardized_values = scaler.fit_transform(values)\n",
    "mean = np.mean(standardized_values)\n",
    "sd = np.std(standardized_values)\n",
    "print(\"mean\",mean)\n",
    "print(\"standard deviation\",sd)\n",
    "print(standardized_values.flatten())"
   ]
  },
  {
   "cell_type": "code",
   "execution_count": 6,
   "metadata": {},
   "outputs": [
    {
     "name": "stdout",
     "output_type": "stream",
     "text": [
      "[0 1 3 0 2]\n"
     ]
    }
   ],
   "source": [
    "from sklearn.preprocessing import LabelEncoder\n",
    "\n",
    "# Define the categorical labels\n",
    "labels = ['cat', 'dog', 'fish', 'cat', 'doz']\n",
    "\n",
    "# Create an instance of LabelEncoder\n",
    "label_encoder = LabelEncoder()\n",
    "\n",
    "# Fit and transform the labels\n",
    "encoded_labels = label_encoder.fit_transform(labels)\n",
    "\n",
    "print(encoded_labels)"
   ]
  },
  {
   "cell_type": "code",
   "execution_count": 13,
   "metadata": {},
   "outputs": [
    {
     "name": "stdout",
     "output_type": "stream",
     "text": [
      "[[1. 0. 0.]\n",
      " [0. 1. 0.]\n",
      " [0. 0. 1.]\n",
      " [0. 1. 0.]\n",
      " [0. 1. 0.]\n",
      " [1. 0. 0.]\n",
      " [0. 0. 1.]\n",
      " [0. 0. 1.]]\n"
     ]
    }
   ],
   "source": [
    "from sklearn.preprocessing import OneHotEncoder\n",
    "import numpy as np\n",
    "\n",
    "# Define the categorical labels\n",
    "labels = ['apple', 'banana', 'orange', 'banana', 'banana', 'apple', 'orange', 'orange']\n",
    "\n",
    "# Create an instance of OneHotEncoder\n",
    "encoder = OneHotEncoder(sparse_output=False)\n",
    "\n",
    "# Fit and transform the labels\n",
    "encoded_labels = encoder.fit_transform(np.array(labels).reshape(-1, 1))\n",
    "\n",
    "print(encoded_labels)"
   ]
  },
  {
   "cell_type": "code",
   "execution_count": 14,
   "metadata": {},
   "outputs": [
    {
     "name": "stdout",
     "output_type": "stream",
     "text": [
      "X_train: [[1]\n",
      " [8]\n",
      " [3]\n",
      " [5]\n",
      " [4]\n",
      " [7]]\n",
      "X_test: [[2]\n",
      " [6]]\n",
      "y_train: [10 80 30 50 40 70]\n",
      "y_test: [20 60]\n"
     ]
    }
   ],
   "source": [
    "from sklearn.model_selection import train_test_split\n",
    "import numpy as np\n",
    "\n",
    "# Define the dataset\n",
    "X = np.array([[1], [2], [3], [4], [5], [6], [7], [8]])\n",
    "y = np.array([10, 20, 30, 40, 50, 60, 70, 80])\n",
    "\n",
    "# Split the dataset into training and testing sets with a test size of 25%\n",
    "X_train, X_test, y_train, y_test = train_test_split(X, y, test_size=0.25, random_state=42)\n",
    "\n",
    "print(\"X_train:\", X_train)\n",
    "print(\"X_test:\", X_test)\n",
    "print(\"y_train:\", y_train)\n",
    "print(\"y_test:\", y_test)"
   ]
  },
  {
   "cell_type": "code",
   "execution_count": 15,
   "metadata": {},
   "outputs": [
    {
     "name": "stdout",
     "output_type": "stream",
     "text": [
      "[[1 1]\n",
      " [1 2]]\n"
     ]
    }
   ],
   "source": [
    "from sklearn.metrics import confusion_matrix\n",
    "\n",
    "# Define the true and predicted labels\n",
    "true_labels = [1, 0, 1, 1, 0]\n",
    "predicted_labels = [1, 0, 0, 1, 1]\n",
    "\n",
    "# Generate the confusion matrix\n",
    "confusion_mat = confusion_matrix(true_labels, predicted_labels)\n",
    "\n",
    "print(confusion_mat)"
   ]
  },
  {
   "cell_type": "code",
   "execution_count": null,
   "metadata": {},
   "outputs": [],
   "source": []
  }
 ],
 "metadata": {
  "kernelspec": {
   "display_name": "Python 3 (ipykernel)",
   "language": "python",
   "name": "python3"
  },
  "language_info": {
   "codemirror_mode": {
    "name": "ipython",
    "version": 3
   },
   "file_extension": ".py",
   "mimetype": "text/x-python",
   "name": "python",
   "nbconvert_exporter": "python",
   "pygments_lexer": "ipython3",
   "version": "3.12.4"
  }
 },
 "nbformat": 4,
 "nbformat_minor": 4
}
