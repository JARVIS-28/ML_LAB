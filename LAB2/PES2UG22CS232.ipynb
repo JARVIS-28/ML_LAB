{
 "cells": [
  {
   "cell_type": "code",
   "execution_count": 1,
   "metadata": {},
   "outputs": [],
   "source": [
    "import torch \n",
    "import numpy as np \n",
    "import math"
   ]
  },
  {
   "cell_type": "code",
   "execution_count": 38,
   "metadata": {},
   "outputs": [
    {
     "name": "stdout",
     "output_type": "stream",
     "text": [
      "tensor([[1, 2],\n",
      "        [3, 4]])\n"
     ]
    }
   ],
   "source": [
    "#Directly from data\n",
    "data = [[1, 2], [3, 4]]\n",
    "x_data = torch.tensor(data)\n",
    "print(x_data)"
   ]
  },
  {
   "cell_type": "code",
   "execution_count": 39,
   "metadata": {},
   "outputs": [
    {
     "name": "stdout",
     "output_type": "stream",
     "text": [
      "tensor([[1, 2],\n",
      "        [3, 4]], dtype=torch.int32)\n"
     ]
    }
   ],
   "source": [
    "# From Numpy array\n",
    "import numpy as np\n",
    "np_array = np.array(data)\n",
    "x_np = torch.from_numpy(np_array)\n",
    "print(x_np)"
   ]
  },
  {
   "cell_type": "code",
   "execution_count": 40,
   "metadata": {},
   "outputs": [
    {
     "name": "stdout",
     "output_type": "stream",
     "text": [
      "Ones Tensor: \n",
      " tensor([[1, 1],\n",
      "        [1, 1]]) \n",
      "\n",
      "Random Tensor: \n",
      " tensor([[0.8515, 0.7726],\n",
      "        [0.5342, 0.2940]]) \n",
      "\n"
     ]
    }
   ],
   "source": [
    "# From other tensors\n",
    "x_ones = torch.ones_like(x_data) # retains the properties of x_data\n",
    "print(f\"Ones Tensor: \\n {x_ones} \\n\")\n",
    "x_rand = torch.rand_like(x_data, dtype=torch.float) # overrides the datatype of x_data\n",
    "print(f\"Random Tensor: \\n {x_rand} \\n\")"
   ]
  },
  {
   "cell_type": "code",
   "execution_count": 2,
   "metadata": {},
   "outputs": [
    {
     "name": "stdout",
     "output_type": "stream",
     "text": [
      "cpu\n"
     ]
    }
   ],
   "source": [
    "tensor=torch.rand(3,2)\n",
    "print(tensor.device)"
   ]
  },
  {
   "cell_type": "code",
   "execution_count": 3,
   "metadata": {},
   "outputs": [
    {
     "name": "stdout",
     "output_type": "stream",
     "text": [
      "CUDA is not available. Tensor remains on CPU\n"
     ]
    }
   ],
   "source": [
    "if torch.cuda.is_available():\n",
    "    tensor = tensor.to(\"cuda\")\n",
    "    print(f\"Device tensor is noe stored on: {tensor.device}\")\n",
    "else:\n",
    "    print(\"CUDA is not available. Tensor remains on CPU\")"
   ]
  },
  {
   "cell_type": "code",
   "execution_count": 4,
   "metadata": {},
   "outputs": [
    {
     "name": "stdout",
     "output_type": "stream",
     "text": [
      "first row: tensor([1., 1., 1., 1.]) \n",
      "\n",
      "first column: tensor([1., 1., 1., 1.]) \n",
      "\n",
      "last column: tensor([1., 1., 1., 1.]) \n",
      "\n",
      "tensor([[1., 0., 1., 1.],\n",
      "        [1., 0., 1., 1.],\n",
      "        [1., 0., 1., 1.],\n",
      "        [1., 0., 1., 1.]])\n"
     ]
    }
   ],
   "source": [
    "tensor = torch.ones(4,4)\n",
    "print(f\"first row: {tensor[0]}\",\"\\n\")\n",
    "print(f\"first column: {tensor[:,0]}\",\"\\n\")\n",
    "print(f\"last column: {tensor[..., -1]}\",\"\\n\")\n",
    "tensor[:,1] = 0\n",
    "print(tensor)"
   ]
  },
  {
   "cell_type": "code",
   "execution_count": 6,
   "metadata": {},
   "outputs": [
    {
     "name": "stdout",
     "output_type": "stream",
     "text": [
      "tensor([[1., 1.],\n",
      "        [1., 1.]]) \n",
      "\n",
      "tensor([[2., 2.],\n",
      "        [2., 2.]]) \n",
      "\n",
      "tensor([[3., 3.],\n",
      "        [3., 3.]]) \n",
      "\n",
      "tensor([[4., 4.],\n",
      "        [4., 4.]]) \n",
      "\n",
      "tensor([[1.4142, 1.4142],\n",
      "        [1.4142, 1.4142]]) \n",
      "\n"
     ]
    }
   ],
   "source": [
    "ones=torch.zeros(2,2)+1\n",
    "twos=torch.ones(2,2)*2\n",
    "threes=(torch.ones(2,2)*7-1)/2\n",
    "fours=twos**2\n",
    "sqrt2s=twos**0.5\n",
    "\n",
    "print(ones,\"\\n\")\n",
    "print(twos,\"\\n\")\n",
    "print(threes,\"\\n\")\n",
    "print(fours,\"\\n\")\n",
    "print(sqrt2s,\"\\n\")"
   ]
  },
  {
   "cell_type": "code",
   "execution_count": 7,
   "metadata": {},
   "outputs": [
    {
     "name": "stdout",
     "output_type": "stream",
     "text": [
      "tensor([[ 2.,  4.],\n",
      "        [ 8., 16.]]) \n",
      "\n",
      "tensor([[5., 5.],\n",
      "        [5., 5.]]) \n",
      "\n",
      "tensor([[12., 12.],\n",
      "        [12., 12.]]) \n",
      "\n"
     ]
    }
   ],
   "source": [
    "powers2=twos**torch.tensor([[1,2],[3,4]])\n",
    "print(powers2,\"\\n\")\n",
    "fives=ones+fours\n",
    "print(fives,\"\\n\")\n",
    "dozens=threes*fours\n",
    "print(dozens,\"\\n\")"
   ]
  },
  {
   "cell_type": "code",
   "execution_count": 10,
   "metadata": {},
   "outputs": [
    {
     "name": "stdout",
     "output_type": "stream",
     "text": [
      "tensor([[0.2717, 0.3851, 0.3082, 0.1363],\n",
      "        [0.3478, 0.5445, 0.0838, 0.1843]])\n",
      "tensor([[0.5433, 0.7702, 0.6164, 0.2726],\n",
      "        [0.6955, 1.0891, 0.1675, 0.3687]])\n"
     ]
    }
   ],
   "source": [
    "rand=torch.rand(2,4)\n",
    "doubled=rand*(torch.ones(1,4)*2)\n",
    "print(rand)\n",
    "print(doubled)"
   ]
  },
  {
   "cell_type": "code",
   "execution_count": 12,
   "metadata": {},
   "outputs": [
    {
     "name": "stdout",
     "output_type": "stream",
     "text": [
      "tensor([[[0.9913, 0.7130],\n",
      "         [0.6616, 0.9126],\n",
      "         [0.6919, 0.3287]],\n",
      "\n",
      "        [[0.9913, 0.7130],\n",
      "         [0.6616, 0.9126],\n",
      "         [0.6919, 0.3287]],\n",
      "\n",
      "        [[0.9913, 0.7130],\n",
      "         [0.6616, 0.9126],\n",
      "         [0.6919, 0.3287]],\n",
      "\n",
      "        [[0.9913, 0.7130],\n",
      "         [0.6616, 0.9126],\n",
      "         [0.6919, 0.3287]]]) \n",
      "\n",
      "tensor([[[0.8303, 0.8397],\n",
      "         [0.8303, 0.8397],\n",
      "         [0.8303, 0.8397]],\n",
      "\n",
      "        [[0.1924, 0.3589],\n",
      "         [0.1924, 0.3589],\n",
      "         [0.1924, 0.3589]],\n",
      "\n",
      "        [[0.8884, 0.6669],\n",
      "         [0.8884, 0.6669],\n",
      "         [0.8884, 0.6669]],\n",
      "\n",
      "        [[0.3571, 0.4259],\n",
      "         [0.3571, 0.4259],\n",
      "         [0.3571, 0.4259]]]) \n",
      "\n",
      "tensor([[[0.2552, 0.7286],\n",
      "         [0.4095, 0.8665],\n",
      "         [0.0446, 0.0863]],\n",
      "\n",
      "        [[0.2552, 0.7286],\n",
      "         [0.4095, 0.8665],\n",
      "         [0.0446, 0.0863]],\n",
      "\n",
      "        [[0.2552, 0.7286],\n",
      "         [0.4095, 0.8665],\n",
      "         [0.0446, 0.0863]],\n",
      "\n",
      "        [[0.2552, 0.7286],\n",
      "         [0.4095, 0.8665],\n",
      "         [0.0446, 0.0863]]]) \n",
      "\n"
     ]
    }
   ],
   "source": [
    "a=torch.ones(4,3,2)\n",
    "b=a*torch.rand(3,2)\n",
    "print(b,\"\\n\")\n",
    "c=a*torch.rand(4,1,2)\n",
    "print(c,\"\\n\")\n",
    "d=a*torch.rand(1,3,2)\n",
    "print(d,\"\\n\")"
   ]
  },
  {
   "cell_type": "code",
   "execution_count": 13,
   "metadata": {},
   "outputs": [
    {
     "name": "stdout",
     "output_type": "stream",
     "text": [
      "tensor([[0.1814, 0.0931, 0.5596, 0.8865],\n",
      "        [0.2700, 0.7118, 0.4675, 0.5981]]) \n",
      "\n",
      "tensor([[1., -0., -0., 1.],\n",
      "        [1., -0., -0., -0.]]) \n",
      "\n",
      "tensor([[ 0., -1., -1.,  0.],\n",
      "        [ 0., -1., -1., -1.]]) \n",
      "\n",
      "tensor([[ 0.1814, -0.0931, -0.5000,  0.5000],\n",
      "        [ 0.2700, -0.5000, -0.4675, -0.5000]]) \n",
      "\n"
     ]
    }
   ],
   "source": [
    "a=torch.rand(2,4)*2-1\n",
    "print(torch.abs(a),\"\\n\") #absolute val\n",
    "print(torch.ceil(a),\"\\n\") #ceiling\n",
    "print(torch.floor(a),\"\\n\") #floor\n",
    "print(torch.clamp(a,-0.5,0.5),\"\\n\")"
   ]
  },
  {
   "cell_type": "code",
   "execution_count": 17,
   "metadata": {},
   "outputs": [
    {
     "name": "stdout",
     "output_type": "stream",
     "text": [
      "sine and Arcsine:\n",
      "tensor([0.0000, 0.7854, 1.5708, 2.3562]) \n",
      "\n",
      "tensor([0.0000, 0.7071, 1.0000, 0.7071]) \n",
      "\n",
      "tensor([0.0000, 0.7854, 1.5708, 0.7854]) \n",
      "\n"
     ]
    }
   ],
   "source": [
    "angles=torch.tensor([0,math.pi/4,math.pi/2,3*math.pi/4])\n",
    "sines=torch.sin(angles)\n",
    "arcsines=torch.asin(sines)\n",
    "print( \"sine and Arcsine:\")\n",
    "print(angles,\"\\n\")\n",
    "print(sines,\"\\n\")\n",
    "print(arcsines,\"\\n\")"
   ]
  },
  {
   "cell_type": "code",
   "execution_count": 16,
   "metadata": {},
   "outputs": [
    {
     "name": "stdout",
     "output_type": "stream",
     "text": [
      "tensor([3, 2, 1])\n"
     ]
    }
   ],
   "source": [
    "b=torch.tensor([1,5,11])\n",
    "c=torch.tensor([2,7,10])\n",
    "print(torch.bitwise_xor(b,c))"
   ]
  },
  {
   "cell_type": "code",
   "execution_count": 41,
   "metadata": {},
   "outputs": [
    {
     "name": "stdout",
     "output_type": "stream",
     "text": [
      "\n",
      "Broadcasted, element-wise equality comparison:\n",
      "tensor([[1., 2.],\n",
      "        [3., 4.]]) \n",
      "\n",
      "tensor([[1., 1.]]) \n",
      "\n",
      "tensor([[ True, False],\n",
      "        [False, False]])\n"
     ]
    }
   ],
   "source": [
    "print('\\nBroadcasted, element-wise equality comparison:')\n",
    "d = torch.tensor([[1., 2.], [3., 4.]])\n",
    "print(d,\"\\n\")\n",
    "e = torch.ones(1, 2)  # many comparison ops support broadcasting!\n",
    "print(e,\"\\n\")\n",
    "print(torch.eq(d, e))  # returns a tensor of type bool\n"
   ]
  },
  {
   "cell_type": "code",
   "execution_count": 21,
   "metadata": {},
   "outputs": [
    {
     "name": "stdout",
     "output_type": "stream",
     "text": [
      "tensor(4.)\n",
      "tensor(2.5000)\n",
      "tensor(1.2910)\n",
      "tensor(24.)\n",
      "tensor([1, 2])\n"
     ]
    }
   ],
   "source": [
    "d= torch.tensor([[1.,2.],[3.,4.]])\n",
    "print(torch.max(d))\n",
    "# print(torch.max_item(d))\n",
    "print(torch.mean(d))\n",
    "print(torch.std(d))\n",
    "print(torch.prod(d))\n",
    "print(torch.unique(torch.tensor([1,2,1,2,1,2])))"
   ]
  },
  {
   "cell_type": "code",
   "execution_count": 42,
   "metadata": {},
   "outputs": [
    {
     "name": "stdout",
     "output_type": "stream",
     "text": [
      "tensor([0., 0., 1.]) \n",
      "\n",
      "tensor([[0.0721, 0.8304],\n",
      "        [0.5713, 0.5208]]) \n",
      "\n",
      "tensor([[0.2163, 2.4913],\n",
      "        [1.7140, 1.5625]]) \n",
      "\n",
      "torch.return_types.svd(\n",
      "U=tensor([[-0.7423, -0.6701],\n",
      "        [-0.6701,  0.7423]]),\n",
      "S=tensor([3.1784, 1.2371]),\n",
      "V=tensor([[-0.4119,  0.9112],\n",
      "        [-0.9112, -0.4119]])) \n",
      "\n"
     ]
    },
    {
     "name": "stderr",
     "output_type": "stream",
     "text": [
      "C:\\Users\\Janvii RV\\AppData\\Local\\Temp\\ipykernel_25984\\3018723044.py:4: UserWarning: Using torch.cross without specifying the dim arg is deprecated.\n",
      "Please either pass the dim explicitly or simply use torch.linalg.cross.\n",
      "The default value of dim will change to agree with that of linalg.cross in a future release. (Triggered internally at C:\\actions-runner\\_work\\pytorch\\pytorch\\builder\\windows\\pytorch\\aten\\src\\ATen\\native\\Cross.cpp:66.)\n",
      "  print(torch.cross(v1, v2),\"\\n\")  # returns cross product of vectors v1 and v2\n"
     ]
    }
   ],
   "source": [
    "v1 = torch.tensor([1., 0., 0.])  # x unit vector\n",
    "v2 = torch.tensor([0., 1., 0.])  # y unit vector\n",
    "\n",
    "print(torch.cross(v1, v2),\"\\n\")  # returns cross product of vectors v1 and v2\n",
    "\n",
    "m1 = torch.rand(2, 2)  # random matrix\n",
    "m2 = torch.tensor([[3., 0.], [0., 3.]])  # three times identity matrix\n",
    "print(m1,\"\\n\")\n",
    "m3 = torch.matmul(m1, m2)  # same as m3 = m1@m2\n",
    "print(m3,\"\\n\")\n",
    "print(torch.svd(m3),\"\\n\")  # singular value decomposition\n"
   ]
  },
  {
   "cell_type": "code",
   "execution_count": 43,
   "metadata": {},
   "outputs": [
    {
     "name": "stdout",
     "output_type": "stream",
     "text": [
      "a:\n",
      "tensor([0.0000, 0.7854, 1.5708, 2.3562])\n",
      "tensor([0.0000, 0.7071, 1.0000, 0.7071])\n",
      "tensor([0.0000, 0.7854, 1.5708, 2.3562])\n",
      "\n",
      "b:\n",
      "tensor([0.0000, 0.7854, 1.5708, 2.3562])\n",
      "tensor([0.0000, 0.7071, 1.0000, 0.7071])\n",
      "tensor([0.0000, 0.7071, 1.0000, 0.7071])\n"
     ]
    }
   ],
   "source": [
    "a = torch.tensor([0, math.pi / 4, math.pi / 2, 3 * math.pi / 4])\n",
    "print('a:')\n",
    "print(a)\n",
    "print(torch.sin(a))  # this operation creates a new tensor in memory\n",
    "print(a)  # a has not changed\n",
    "\n",
    "b = torch.tensor([0, math.pi / 4, math.pi / 2, 3 * math.pi / 4])\n",
    "print('\\nb:')\n",
    "print(b)\n",
    "print(torch.sin_(b))  # note the underscore\n",
    "print(b)  # b has changed\n"
   ]
  },
  {
   "cell_type": "code",
   "execution_count": 44,
   "metadata": {},
   "outputs": [
    {
     "name": "stdout",
     "output_type": "stream",
     "text": [
      "Before:\n",
      "tensor([[1., 1.],\n",
      "        [1., 1.]])\n",
      "tensor([[0.1632, 0.2528],\n",
      "        [0.2333, 0.3847]])\n",
      "\n",
      "After adding:\n",
      "tensor([[1.1632, 1.2528],\n",
      "        [1.2333, 1.3847]])\n",
      "tensor([[1.1632, 1.2528],\n",
      "        [1.2333, 1.3847]])\n",
      "tensor([[0.1632, 0.2528],\n",
      "        [0.2333, 0.3847]])\n",
      "\n",
      "After multiplying\n",
      "tensor([[0.0266, 0.0639],\n",
      "        [0.0544, 0.1480]])\n",
      "tensor([[0.0266, 0.0639],\n",
      "        [0.0544, 0.1480]])\n"
     ]
    }
   ],
   "source": [
    "a = torch.ones(2, 2)\n",
    "b = torch.rand(2, 2)\n",
    "print('Before:')\n",
    "print(a)\n",
    "print(b)\n",
    "print('\\nAfter adding:')\n",
    "print(a.add_(b))\n",
    "print(a)\n",
    "print(b)\n",
    "print('\\nAfter multiplying')\n",
    "print(b.mul_(b))\n",
    "print(b)\n"
   ]
  },
  {
   "cell_type": "code",
   "execution_count": 47,
   "metadata": {},
   "outputs": [
    {
     "name": "stdout",
     "output_type": "stream",
     "text": [
      "tensor([[0., 0.],\n",
      "        [0., 0.]]) \n",
      "\n",
      "tensor([[0.8719, 0.7835],\n",
      "        [0.3472, 0.2158]]) \n",
      "\n",
      "tensor([[0.1633, 0.3165],\n",
      "        [0.4645, 0.8172]]) \n",
      "\n"
     ]
    }
   ],
   "source": [
    "a = torch.rand(2, 2)\n",
    "b = torch.rand(2, 2)\n",
    "c = torch.zeros(2, 2)\n",
    "old_id = id(c)\n",
    "print(c,\"\\n\")\n",
    "d = torch.matmul(a, b, out=c)\n",
    "print(c,\"\\n\") # contents of c have changed\n",
    "\n",
    "assert c is d # test c & d are same object, not just containing equal values # make sure that our new c is the same object as the old one\n",
    "assert id(c) == old_id\n",
    "\n",
    "torch.rand(2, 2, out=c) # works for creation too!\n",
    "print(c,\"\\n\") # c has changed again\n",
    "\n",
    "assert id(c) == old_id # still the same object!\n",
    "\n",
    "\n",
    "\n",
    "\n"
   ]
  },
  {
   "cell_type": "code",
   "execution_count": 48,
   "metadata": {},
   "outputs": [
    {
     "name": "stdout",
     "output_type": "stream",
     "text": [
      "tensor([[1, 2],\n",
      "        [3, 4]]) \n",
      "\n",
      "tensor([[[0.2921, 0.8717, 0.2719,  ..., 0.9897, 0.7270, 0.4055],\n",
      "         [0.1525, 0.7066, 0.4651,  ..., 0.6802, 0.0283, 0.4640],\n",
      "         [0.2021, 0.1674, 0.5078,  ..., 0.8106, 0.8377, 0.3742],\n",
      "         ...,\n",
      "         [0.5755, 0.2428, 0.8970,  ..., 0.2909, 0.4621, 0.9259],\n",
      "         [0.0459, 0.6079, 0.3459,  ..., 0.7855, 0.8999, 0.5575],\n",
      "         [0.9439, 0.6993, 0.2142,  ..., 0.1840, 0.6561, 0.4216]]]) \n",
      "\n",
      "torch.Size([1, 20]) \n",
      "\n",
      "torch.Size([20]) \n",
      "\n",
      "tensor([[0.9764, 0.8198, 0.3823],\n",
      "        [0.5728, 0.6162, 0.7484],\n",
      "        [0.1862, 0.4098, 0.8907],\n",
      "        [0.0215, 0.0129, 0.9713],\n",
      "        [0.2715, 0.7608, 0.7453],\n",
      "        [0.7002, 0.1037, 0.6854]])\n"
     ]
    }
   ],
   "source": [
    "a = torch.tensor([1, 2, 3, 4])\n",
    "a_reshaped = torch.reshape(a, (2, 2))\n",
    "print(a_reshaped,\"\\n\")\n",
    "\n",
    "b = torch.rand(56, 56)  # Consider 56x56 image\n",
    "c = b.unsqueeze(0)  # unsqueeze(i) adds dimension of length 1 at index i\n",
    "print(c,\"\\n\")  # c is now a batch of 1 image of shape 56x56\n",
    "\n",
    "d = torch.rand(1, 20)\n",
    "print(d.shape,\"\\n\")\n",
    "e = d.squeeze(0)  # squeeze(i) removes a dimension if shape[i] is 1\n",
    "print(e.shape,\"\\n\")\n",
    "\n",
    "x, y, z = torch.rand(2, 3), torch.rand(2, 3), torch.rand(2, 3)\n",
    "cat_tensor = torch.cat((x, y, z), dim=0)  # concatenates tensors along rows\n",
    "print(cat_tensor)\n"
   ]
  },
  {
   "cell_type": "code",
   "execution_count": 49,
   "metadata": {},
   "outputs": [
    {
     "name": "stdout",
     "output_type": "stream",
     "text": [
      "tensor([[  1., 561.],\n",
      "        [  1.,   1.]])\n"
     ]
    }
   ],
   "source": [
    "a = torch.ones(2, 2)\n",
    "b=a\n",
    "a[0][1] = 561 # we change a...\n",
    "print(b) # ...and b is also altered\n"
   ]
  },
  {
   "cell_type": "code",
   "execution_count": 50,
   "metadata": {},
   "outputs": [
    {
     "name": "stdout",
     "output_type": "stream",
     "text": [
      "tensor([[True, True],\n",
      "        [True, True]])\n",
      "tensor([[1., 1.],\n",
      "        [1., 1.]])\n"
     ]
    }
   ],
   "source": [
    "a = torch.ones(2, 2)\n",
    "b = a.clone()\n",
    "\n",
    "assert b is not a # different objects in memory...\n",
    "print(torch.eq(a,b)) # ...but still with the same contents!\n",
    "a[0][1] = 561 # a changes...\n",
    "print(b)   # ...but b is still all ones\n",
    "\n",
    "\n",
    "\n",
    "\n"
   ]
  },
  {
   "cell_type": "markdown",
   "metadata": {},
   "source": [
    "Questions:\n"
   ]
  },
  {
   "cell_type": "code",
   "execution_count": 15,
   "metadata": {},
   "outputs": [
    {
     "name": "stdout",
     "output_type": "stream",
     "text": [
      "tensor([[0, 0, 0, 0],\n",
      "        [0, 0, 0, 0],\n",
      "        [0, 0, 0, 0],\n",
      "        [0, 0, 0, 0]])\n"
     ]
    }
   ],
   "source": [
    "#1. Obtain a tensor containing only zeros from the given tensor\n",
    "\n",
    "pattern=torch.tensor([\n",
    "    [1,1,1,1],\n",
    "    [1,0,0,1],\n",
    "    [1,0,0,1],\n",
    "    [1,1,1,1]\n",
    "])\n",
    "\n",
    "zeros=torch.zeros_like(pattern)\n",
    "print(zeros)\n"
   ]
  },
  {
   "cell_type": "code",
   "execution_count": 14,
   "metadata": {},
   "outputs": [
    {
     "name": "stdout",
     "output_type": "stream",
     "text": [
      "[[1. 1. 1.]\n",
      " [1. 1. 1.]\n",
      " [1. 1. 1.]]\n"
     ]
    }
   ],
   "source": [
    "#2. Create a Numpy array of shape (1,3,3) using PytTorch\n",
    "np_array=torch.ones(3,3).numpy()\n",
    "print(np_array)"
   ]
  },
  {
   "cell_type": "code",
   "execution_count": 24,
   "metadata": {},
   "outputs": [
    {
     "name": "stdout",
     "output_type": "stream",
     "text": [
      "tensor(1.0582)\n",
      "tensor(0.1977)\n",
      "tensor(0.5945)\n",
      "tensor(0.3305)\n"
     ]
    }
   ],
   "source": [
    "# Create two random (2,2,2) tensors and find the max, min, mean, std of their product (matrix multiplication)\n",
    "\n",
    "a=torch.rand(2,2,2)\n",
    "b=torch.rand(2,2,2)\n",
    "print(torch.max(torch.matmul(a,b)))\n",
    "print(torch.min(torch.matmul(a,b)))\n",
    "print(torch.mean(torch.matmul(a,b)))\n",
    "print(torch.std(torch.matmul(a,b)))\n"
   ]
  },
  {
   "cell_type": "code",
   "execution_count": 26,
   "metadata": {},
   "outputs": [
    {
     "name": "stdout",
     "output_type": "stream",
     "text": [
      "tensor([[1., 1., 1., 1., 1., 1., 1., 1., 1., 1., 1., 1., 1., 1., 1., 1., 1., 1.,\n",
      "         1., 1., 1., 1., 1., 1., 1., 1., 1., 1., 1., 1., 1., 1., 1., 1., 1., 1.,\n",
      "         1., 1., 1., 1., 1., 1., 1., 1., 1., 1., 1., 1., 1., 1., 1., 1., 1., 1.,\n",
      "         1., 1., 1., 1., 1., 1., 1., 1., 1., 1., 1., 1., 1., 1., 1., 1., 1., 1.,\n",
      "         1., 1., 1., 1., 1., 1., 1., 1., 1., 1., 1., 1., 1., 1., 1., 1., 1., 1.,\n",
      "         1., 1., 1., 1., 1., 1., 1., 1., 1., 1., 1., 1., 1., 1., 1., 1., 1., 1.,\n",
      "         1., 1., 1., 1., 1., 1., 1., 1., 1., 1., 1., 1., 1., 1., 1., 1., 1., 1.,\n",
      "         1., 1., 1., 1., 1., 1., 1., 1., 1., 1., 1., 1., 1., 1., 1., 1., 1., 1.,\n",
      "         1., 1., 1., 1., 1., 1., 1., 1., 1., 1., 1., 1., 1., 1., 1., 1., 1., 1.,\n",
      "         1., 1., 1., 1., 1., 1., 1., 1., 1., 1., 1., 1., 1., 1., 1., 1., 1., 1.,\n",
      "         1., 1., 1., 1., 1., 1., 1., 1., 1., 1., 1., 1., 1., 1., 1., 1., 1., 1.,\n",
      "         1., 1., 1., 1., 1., 1., 1., 1., 1., 1., 1., 1., 1., 1., 1., 1., 1., 1.,\n",
      "         1., 1., 1., 1., 1., 1., 1., 1., 1., 1., 1., 1., 1., 1., 1., 1., 1., 1.,\n",
      "         1., 1., 1., 1., 1., 1., 1., 1., 1., 1., 1., 1., 1., 1., 1., 1., 1., 1.,\n",
      "         1., 1., 1., 1.]])\n"
     ]
    }
   ],
   "source": [
    "#4.Convert a 16x16 tensor into a 1x256 tensor\n",
    "a=torch.ones(16,16)\n",
    "b=torch.reshape(a,(1,256))\n",
    "print(b)"
   ]
  },
  {
   "cell_type": "code",
   "execution_count": 55,
   "metadata": {},
   "outputs": [
    {
     "name": "stdout",
     "output_type": "stream",
     "text": [
      "a: 0.9876007437705994\n",
      "b: 1.9313138723373413\n"
     ]
    }
   ],
   "source": [
    "#5.Given twp tensors x and y,find the coefficients that best model the linear relationship Y = ax + b (Linear Regression)\n",
    "x = torch.rand(10)\n",
    "y = 2 * x + 1 + torch.randn(10) * 0.1\n",
    "\n",
    "x_mean = torch.mean(x)\n",
    "y_mean = torch.mean(y)\n",
    "\n",
    "b = torch.sum((x - x_mean) * (y - y_mean)) / torch.sum((x - x_mean) ** 2)\n",
    "a = y_mean - b * x_mean\n",
    "\n",
    "print(f\"a: {a}\\nb: {b}\")\n"
   ]
  },
  {
   "cell_type": "code",
   "execution_count": 25,
   "metadata": {},
   "outputs": [
    {
     "name": "stdout",
     "output_type": "stream",
     "text": [
      "tensor([[0.1125, 0.1489, 0.0210],\n",
      "        [0.5871, 0.0653, 0.1461],\n",
      "        [0.1373, 0.0020, 0.0014]])\n",
      "tensor([[0.7033, 0.9543, 0.3532],\n",
      "        [1.5777, 0.5697, 0.7659],\n",
      "        [0.9926, 0.1205, 0.4800]])\n"
     ]
    }
   ],
   "source": [
    "#6.Perform element-wise multiplication and addition on two 3x3 tensors\n",
    "a=torch.rand(3,3)\n",
    "b=torch.rand(3,3)\n",
    "\n",
    "print(a*b)\n",
    "print(a+b)\n"
   ]
  },
  {
   "cell_type": "code",
   "execution_count": 23,
   "metadata": {},
   "outputs": [
    {
     "name": "stdout",
     "output_type": "stream",
     "text": [
      "tensor([[[0.2516, 0.8967, 0.6381],\n",
      "         [0.7095, 0.2973, 0.1784]],\n",
      "\n",
      "        [[0.8898, 0.2732, 0.1199],\n",
      "         [0.7296, 0.2945, 0.5746]]])\n"
     ]
    }
   ],
   "source": [
    "#7.Stack two 2x3 tensors along a new dimension\n",
    "a=torch.rand(2,3)\n",
    "b=torch.rand(2,3)\n",
    "\n",
    "print(torch.stack((a,b),dim=0))\n"
   ]
  },
  {
   "cell_type": "code",
   "execution_count": 27,
   "metadata": {},
   "outputs": [
    {
     "name": "stdout",
     "output_type": "stream",
     "text": [
      "tensor([0, 1, 2, 3, 4, 5, 6, 7, 8, 9])\n"
     ]
    }
   ],
   "source": [
    "#8.Create a 1D tensor with values ranging from 0 to 9\n",
    "a=torch.arange(10)\n",
    "print(a)"
   ]
  },
  {
   "cell_type": "code",
   "execution_count": 28,
   "metadata": {},
   "outputs": [
    {
     "name": "stdout",
     "output_type": "stream",
     "text": [
      "tensor([[0.2668, 0.5068, 0.1676],\n",
      "        [0.2092, 0.2588, 0.1479]])\n",
      "tensor([[1.0336, 1.4496, 0.9300],\n",
      "        [0.9251, 1.0283, 0.8493]])\n"
     ]
    }
   ],
   "source": [
    "#9. Perform operations on tensors of different shapes: 2x3 and 1x3 tensor using broadcasting\n",
    "a=torch.rand(2,3)\n",
    "b=torch.rand(1,3)\n",
    "\n",
    "print(a*b)\n",
    "print(a+b)"
   ]
  },
  {
   "cell_type": "code",
   "execution_count": 29,
   "metadata": {},
   "outputs": [
    {
     "name": "stdout",
     "output_type": "stream",
     "text": [
      "tensor([[0.4722, 0.0895, 0.3973, 0.1964],\n",
      "        [0.2889, 0.9246, 0.7908, 0.4213],\n",
      "        [0.7952, 0.4587, 0.7342, 0.3880]])\n"
     ]
    }
   ],
   "source": [
    "#10. Reshape a 1D tensor with 12 elements into a 3x4 matrix.  give answer without comments\n",
    "a=torch.rand(12)\n",
    "b=torch.reshape(a,(3,4))\n",
    "print(b)"
   ]
  }
 ],
 "metadata": {
  "kernelspec": {
   "display_name": "Python 3",
   "language": "python",
   "name": "python3"
  },
  "language_info": {
   "codemirror_mode": {
    "name": "ipython",
    "version": 3
   },
   "file_extension": ".py",
   "mimetype": "text/x-python",
   "name": "python",
   "nbconvert_exporter": "python",
   "pygments_lexer": "ipython3",
   "version": "3.12.0"
  }
 },
 "nbformat": 4,
 "nbformat_minor": 2
}
